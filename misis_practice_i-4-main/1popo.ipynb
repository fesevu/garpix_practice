{
  "cells": [
    {
      "cell_type": "code",
      "execution_count": 60,
      "metadata": {},
      "outputs": [],
      "source": [
        "import matplotlib.pyplot as plt\n",
        "import numpy as np\n",
        "import pandas as pd\n",
        "from sklearn.datasets import load_digits\n",
        "from sklearn.model_selection import train_test_split"
      ]
    },
    {
      "cell_type": "code",
      "execution_count": null,
      "metadata": {},
      "outputs": [],
      "source": []
    },
    {
      "cell_type": "code",
      "execution_count": 61,
      "metadata": {},
      "outputs": [],
      "source": [
        "data = pd.read_csv('data.csv')"
      ]
    },
    {
      "cell_type": "code",
      "execution_count": 62,
      "metadata": {},
      "outputs": [],
      "source": [
        "X = data['meanVolume']\n",
        "y = (data['density_percent'] >=80).astype(np.int32)"
      ]
    },
    {
      "cell_type": "code",
      "execution_count": 63,
      "metadata": {},
      "outputs": [],
      "source": [
        "X_train, X_test, y_train, y_test = train_test_split(X,\n",
        "                                                    y,\n",
        "                                                    train_size=0.77,\n",
        "                                                    shuffle=True)"
      ]
    },
    {
      "cell_type": "code",
      "execution_count": 64,
      "metadata": {},
      "outputs": [
        {
          "data": {
            "text/plain": [
              "((483,), (145,))"
            ]
          },
          "execution_count": 64,
          "metadata": {},
          "output_type": "execute_result"
        }
      ],
      "source": [
        "X_train.shape, X_test.shape"
      ]
    },
    {
      "cell_type": "code",
      "execution_count": 65,
      "metadata": {},
      "outputs": [],
      "source": [
        "def log_loss(y_true, y_pred):\n",
        "    return -np.sum(y_true * np.log(y_pred) + (1 - y_true) * np.log(1 - y_pred), axis=0) / len(y_true)\n",
        "\n",
        "def sigmoid(x):\n",
        "    return 1 / (1 + np.exp(-x))"
      ]
    },
    {
      "cell_type": "code",
      "execution_count": 66,
      "metadata": {},
      "outputs": [
        {
          "name": "stdout",
          "output_type": "stream",
          "text": [
            "Число объектов в обучающей выборке: 483\n",
            "Размерность объекта: 1\n"
          ]
        }
      ],
      "source": [
        "m,n = X_train.shape[0], 1\n",
        "print(f'Число объектов в обучающей выборке: {m}\\nРазмерность объекта: {n}')"
      ]
    },
    {
      "cell_type": "code",
      "execution_count": 67,
      "metadata": {},
      "outputs": [],
      "source": [
        "class LogisticRegression:\n",
        "    \n",
        "    def __init__(self):\n",
        "        self.w = np.random.randn(n, 1) * 0.001\n",
        "        self.b = np.random.randn() * 0.001\n",
        "        self.report_every = 40\n",
        "\n",
        "    def train(self, X, y, learning_rate=0.005, epochs=40):\n",
        "        self.losses_train = []\n",
        "        self.losses_test = []\n",
        "        \n",
        "        for epoch in range(epochs):            \n",
        "            dw = np.zeros((n, 1))\n",
        "            db = 0\n",
        "            \n",
        "            for i in range(len(X)):\n",
        "                # forward propagation\n",
        "                z = X[i].reshape(1, n).dot(self.w) + self.b\n",
        "                a = sigmoid(z)[0][0]\n",
        "                \n",
        "                # gradient calculation\n",
        "                dw += (a - y[i]) * X[i].reshape(n, 1)\n",
        "                db += (a - y[i])\n",
        "                \n",
        "            dw /= len(X)\n",
        "            db /= len(X)\n",
        "            \n",
        "            # gradient step\n",
        "            self.w = self.w - learning_rate * dw\n",
        "            self.b = self.b - learning_rate * db\n",
        "            \n",
        "            # save loss for plotting\n",
        "            if epoch % self.report_every == 0:\n",
        "                self.losses_train.append(log_loss(y, self.predict(X)))\n",
        "                self.losses_test.append(log_loss(y_test, self.predict(X_test)))\n",
        "        \n",
        "\n",
        "    def train_vec(self, X, y, learning_rate=0.005, epochs=40):\n",
        "        self.losses_train = []\n",
        "        self.losses_test = []\n",
        "        \n",
        "        for epoch in range(epochs):            \n",
        "            Z = X.values.reshape(m, n).dot(self.w) + self.b\n",
        "            A = sigmoid(Z)\n",
        "            \n",
        "            dw = np.sum(X.values.reshape(m, n) * (A.reshape(m, 1) - y.values.reshape(m, 1)), axis=0) / len(X)\n",
        "            db = np.sum((A.reshape(m, 1) - y.values.reshape(m, 1)), axis=0) / len(X)\n",
        "            \n",
        "            # gradient step\n",
        "            self.w = self.w - learning_rate * dw.reshape(n, 1)\n",
        "            self.b = self.b - learning_rate * db\n",
        "            \n",
        "            # save loss for plotting\n",
        "            if epoch % self.report_every == 0:\n",
        "                self.losses_train.append(log_loss(y, self.predict(X.values)))\n",
        "                self.losses_test.append(log_loss(y_test, self.predict(X_test.values)))\n",
        "    \n",
        "\n",
        "    def predict(self, X):        \n",
        "        return np.array([sigmoid(x.reshape(1, n).dot(self.w) + self.b)[0][0] \n",
        "                         for x in X])"
      ]
    },
    {
      "cell_type": "code",
      "execution_count": 68,
      "metadata": {},
      "outputs": [
        {
          "name": "stdout",
          "output_type": "stream",
          "text": [
            "Wall time: 130 ms\n"
          ]
        },
        {
          "name": "stderr",
          "output_type": "stream",
          "text": [
            "C:\\Users\\fesevu\\AppData\\Roaming\\Python\\Python37\\site-packages\\ipykernel_launcher.py:5: RuntimeWarning: overflow encountered in exp\n",
            "  \"\"\"\n",
            "C:\\Users\\fesevu\\AppData\\Roaming\\Python\\Python37\\site-packages\\ipykernel_launcher.py:2: RuntimeWarning: divide by zero encountered in log\n",
            "  \n"
          ]
        }
      ],
      "source": [
        "%%time\n",
        "logreg = LogisticRegression()\n",
        "logreg.train_vec(X_train, y_train, epochs=500)"
      ]
    },
    {
      "cell_type": "code",
      "execution_count": 69,
      "metadata": {},
      "outputs": [
        {
          "data": {
            "image/png": "[encoded data removed]",
            "text/plain": [
              "<Figure size 640x480 with 1 Axes>"
            ]
          },
          "metadata": {},
          "output_type": "display_data"
        }
      ],
      "source": [
        "domain = np.arange(0, len(logreg.losses_train)) * logreg.report_every\n",
        "plt.plot(domain, logreg.losses_train, label='Train')\n",
        "plt.plot(domain, logreg.losses_test, label='Test')\n",
        "plt.xlabel('Epoch number')\n",
        "plt.ylabel('LogLoss')\n",
        "plt.legend();"
      ]
    }
  ],
  "metadata": {
    "kernelspec": {
      "display_name": "Python 3",
      "language": "python",
      "name": "python3"
    },
    "language_info": {
      "codemirror_mode": {
        "name": "ipython",
        "version": 3
      },
      "file_extension": ".py",
      "mimetype": "text/x-python",
      "name": "python",
      "nbconvert_exporter": "python",
      "pygments_lexer": "ipython3",
      "version": "3.7.3"
    }
  },
  "nbformat": 4,
  "nbformat_minor": 4
}
