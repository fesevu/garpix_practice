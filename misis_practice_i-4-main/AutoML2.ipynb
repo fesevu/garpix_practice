{
  "nbformat": 4,
  "nbformat_minor": 0,
  "metadata": {
    "colab": {
      "provenance": []
    },
    "kernelspec": {
      "name": "python3",
      "display_name": "Python 3"
    },
    "language_info": {
      "name": "python"
    }
  },
  "cells": [
    {
      "cell_type": "code",
      "execution_count": null,
      "metadata": {
        "colab": {
          "base_uri": "https://localhost:8080/"
        },
        "id": "h25NfC9Mss5S",
        "outputId": "89330dfe-7fda-4f19-9840-87102ad9c254"
      },
      "outputs": [
        {
          "output_type": "stream",
          "name": "stdout",
          "text": [
            "Requirement already satisfied: requests in /usr/local/lib/python3.10/dist-packages (2.27.1)\n",
            "Requirement already satisfied: urllib3<1.27,>=1.21.1 in /usr/local/lib/python3.10/dist-packages (from requests) (1.26.16)\n",
            "Requirement already satisfied: certifi>=2017.4.17 in /usr/local/lib/python3.10/dist-packages (from requests) (2023.5.7)\n",
            "Requirement already satisfied: charset-normalizer~=2.0.0 in /usr/local/lib/python3.10/dist-packages (from requests) (2.0.12)\n",
            "Requirement already satisfied: idna<4,>=2.5 in /usr/local/lib/python3.10/dist-packages (from requests) (3.4)\n",
            "Requirement already satisfied: tabulate in /usr/local/lib/python3.10/dist-packages (0.8.10)\n",
            "Requirement already satisfied: future in /usr/local/lib/python3.10/dist-packages (0.18.3)\n",
            "Requirement already satisfied: matplotlib in /usr/local/lib/python3.10/dist-packages (3.7.1)\n",
            "Requirement already satisfied: contourpy>=1.0.1 in /usr/local/lib/python3.10/dist-packages (from matplotlib) (1.1.0)\n",
            "Requirement already satisfied: cycler>=0.10 in /usr/local/lib/python3.10/dist-packages (from matplotlib) (0.11.0)\n",
            "Requirement already satisfied: fonttools>=4.22.0 in /usr/local/lib/python3.10/dist-packages (from matplotlib) (4.41.0)\n",
            "Requirement already satisfied: kiwisolver>=1.0.1 in /usr/local/lib/python3.10/dist-packages (from matplotlib) (1.4.4)\n",
            "Requirement already satisfied: numpy>=1.20 in /usr/local/lib/python3.10/dist-packages (from matplotlib) (1.22.4)\n",
            "Requirement already satisfied: packaging>=20.0 in /usr/local/lib/python3.10/dist-packages (from matplotlib) (23.1)\n",
            "Requirement already satisfied: pillow>=6.2.0 in /usr/local/lib/python3.10/dist-packages (from matplotlib) (8.4.0)\n",
            "Requirement already satisfied: pyparsing>=2.3.1 in /usr/local/lib/python3.10/dist-packages (from matplotlib) (3.1.0)\n",
            "Requirement already satisfied: python-dateutil>=2.7 in /usr/local/lib/python3.10/dist-packages (from matplotlib) (2.8.2)\n",
            "Requirement already satisfied: six>=1.5 in /usr/local/lib/python3.10/dist-packages (from python-dateutil>=2.7->matplotlib) (1.16.0)\n"
          ]
        }
      ],
      "source": [
        "!pip install requests\n",
        "!pip install tabulate\n",
        "!pip install future\n",
        "!pip install matplotlib"
      ]
    },
    {
      "cell_type": "code",
      "source": [
        "!pip uninstall h2o\n",
        "!pip install -f http://h2o-release.s3.amazonaws.com/h2o/latest_stable_Py.html h2o"
      ],
      "metadata": {
        "id": "sIfCJGU5tqYZ",
        "colab": {
          "base_uri": "https://localhost:8080/"
        },
        "outputId": "7b6dacaf-8db6-4b24-c4f3-59078010486a"
      },
      "execution_count": null,
      "outputs": [
        {
          "output_type": "stream",
          "name": "stdout",
          "text": [
            "\u001b[33mWARNING: Skipping h2o as it is not installed.\u001b[0m\u001b[33m\n",
            "\u001b[0mLooking in links: http://h2o-release.s3.amazonaws.com/h2o/latest_stable_Py.html\n",
            "\u001b[33mWARNING: The repository located at h2o-release.s3.amazonaws.com is not a trusted or secure host and is being ignored. If this repository is available via HTTPS we recommend you use HTTPS instead, otherwise you may silence this warning and allow it anyway with '--trusted-host h2o-release.s3.amazonaws.com'.\u001b[0m\u001b[33m\n",
            "\u001b[0mCollecting h2o\n",
            "  Downloading h2o-3.42.0.1.tar.gz (249.1 MB)\n",
            "\u001b[2K     \u001b[90m━━━━━━━━━━━━━━━━━━━━━━━━━━━━━━━━━━━━━━━\u001b[0m \u001b[32m249.1/249.1 MB\u001b[0m \u001b[31m4.4 MB/s\u001b[0m eta \u001b[36m0:00:00\u001b[0m\n",
            "\u001b[?25h  Preparing metadata (setup.py) ... \u001b[?25l\u001b[?25hdone\n",
            "Requirement already satisfied: requests in /usr/local/lib/python3.10/dist-packages (from h2o) (2.27.1)\n",
            "Requirement already satisfied: tabulate in /usr/local/lib/python3.10/dist-packages (from h2o) (0.8.10)\n",
            "Requirement already satisfied: urllib3<1.27,>=1.21.1 in /usr/local/lib/python3.10/dist-packages (from requests->h2o) (1.26.16)\n",
            "Requirement already satisfied: certifi>=2017.4.17 in /usr/local/lib/python3.10/dist-packages (from requests->h2o) (2023.5.7)\n",
            "Requirement already satisfied: charset-normalizer~=2.0.0 in /usr/local/lib/python3.10/dist-packages (from requests->h2o) (2.0.12)\n",
            "Requirement already satisfied: idna<4,>=2.5 in /usr/local/lib/python3.10/dist-packages (from requests->h2o) (3.4)\n",
            "Building wheels for collected packages: h2o\n",
            "  Building wheel for h2o (setup.py) ... \u001b[?25l\u001b[?25hdone\n",
            "  Created wheel for h2o: filename=h2o-3.42.0.1-py2.py3-none-any.whl size=249152215 sha256=03ea113635caab73ed5e49f0349c4e65e9e30c8acb9b99a48564d7748eda3e79\n",
            "  Stored in directory: /root/.cache/pip/wheels/2e/2f/04/ef0554c89bcb5d38a6fc082a87f497933109faefd94dcdc3d2\n",
            "Successfully built h2o\n",
            "Installing collected packages: h2o\n",
            "Successfully installed h2o-3.42.0.1\n"
          ]
        }
      ]
    },
    {
      "cell_type": "code",
      "source": [
        "import h2o\n",
        "from h2o.automl import H2OAutoML\n",
        "import numpy as np\n",
        "import pandas as pd"
      ],
      "metadata": {
        "id": "K3_dUAat89xv"
      },
      "execution_count": null,
      "outputs": []
    },
    {
      "cell_type": "code",
      "source": [
        "df = pd.read_csv('data.csv')"
      ],
      "metadata": {
        "id": "H2Ce1FcCRVmP"
      },
      "execution_count": null,
      "outputs": []
    },
    {
      "cell_type": "code",
      "source": [
        "h2o.init()"
      ],
      "metadata": {
        "colab": {
          "base_uri": "https://localhost:8080/",
          "height": 544
        },
        "id": "c0KdUu5ZC03j",
        "outputId": "c2703461-190d-4407-ec8a-688efb4fb0e0"
      },
      "execution_count": null,
      "outputs": [
        {
          "output_type": "stream",
          "name": "stdout",
          "text": [
            "Checking whether there is an H2O instance running at http://localhost:54321..... not found.\n",
            "Attempting to start a local H2O server...\n",
            "  Java Version: openjdk version \"11.0.19\" 2023-04-18; OpenJDK Runtime Environment (build 11.0.19+7-post-Ubuntu-0ubuntu120.04.1); OpenJDK 64-Bit Server VM (build 11.0.19+7-post-Ubuntu-0ubuntu120.04.1, mixed mode, sharing)\n",
            "  Starting server from /usr/local/lib/python3.10/dist-packages/h2o/backend/bin/h2o.jar\n",
            "  Ice root: /tmp/tmptxq2rnab\n",
            "  JVM stdout: /tmp/tmptxq2rnab/h2o_unknownUser_started_from_python.out\n",
            "  JVM stderr: /tmp/tmptxq2rnab/h2o_unknownUser_started_from_python.err\n",
            "  Server is running at http://127.0.0.1:54321\n",
            "Connecting to H2O server at http://127.0.0.1:54321 ... successful.\n"
          ]
        },
        {
          "output_type": "display_data",
          "data": {
            "text/plain": [
              "--------------------------  -----------------------------------------------------------------------------------------\n",
              "H2O_cluster_uptime:         03 secs\n",
              "H2O_cluster_timezone:       Etc/UTC\n",
              "H2O_data_parsing_timezone:  UTC\n",
              "H2O_cluster_version:        3.42.0.1\n",
              "H2O_cluster_version_age:    28 days, 19 hours and 30 minutes\n",
              "H2O_cluster_name:           H2O_from_python_unknownUser_bs31vn\n",
              "H2O_cluster_total_nodes:    1\n",
              "H2O_cluster_free_memory:    3.170 Gb\n",
              "H2O_cluster_total_cores:    2\n",
              "H2O_cluster_allowed_cores:  2\n",
              "H2O_cluster_status:         locked, healthy\n",
              "H2O_connection_url:         http://127.0.0.1:54321\n",
              "H2O_connection_proxy:       {\"http\": null, \"https\": null, \"colab_language_server\": \"/usr/colab/bin/language_service\"}\n",
              "H2O_internal_security:      False\n",
              "Python_version:             3.10.12 final\n",
              "--------------------------  -----------------------------------------------------------------------------------------"
            ],
            "text/html": [
              "\n",
              "<style>\n",
              "\n",
              "#h2o-table-1.h2o-container {\n",
              "  overflow-x: auto;\n",
              "}\n",
              "#h2o-table-1 .h2o-table {\n",
              "  /* width: 100%; */\n",
              "  margin-top: 1em;\n",
              "  margin-bottom: 1em;\n",
              "}\n",
              "#h2o-table-1 .h2o-table caption {\n",
              "  white-space: nowrap;\n",
              "  caption-side: top;\n",
              "  text-align: left;\n",
              "  /* margin-left: 1em; */\n",
              "  margin: 0;\n",
              "  font-size: larger;\n",
              "}\n",
              "#h2o-table-1 .h2o-table thead {\n",
              "  white-space: nowrap; \n",
              "  position: sticky;\n",
              "  top: 0;\n",
              "  box-shadow: 0 -1px inset;\n",
              "}\n",
              "#h2o-table-1 .h2o-table tbody {\n",
              "  overflow: auto;\n",
              "}\n",
              "#h2o-table-1 .h2o-table th,\n",
              "#h2o-table-1 .h2o-table td {\n",
              "  text-align: right;\n",
              "  /* border: 1px solid; */\n",
              "}\n",
              "#h2o-table-1 .h2o-table tr:nth-child(even) {\n",
              "  /* background: #F5F5F5 */\n",
              "}\n",
              "\n",
              "</style>      \n",
              "<div id=\"h2o-table-1\" class=\"h2o-container\">\n",
              "  <table class=\"h2o-table\">\n",
              "    <caption></caption>\n",
              "    <thead></thead>\n",
              "    <tbody><tr><td>H2O_cluster_uptime:</td>\n",
              "<td>03 secs</td></tr>\n",
              "<tr><td>H2O_cluster_timezone:</td>\n",
              "<td>Etc/UTC</td></tr>\n",
              "<tr><td>H2O_data_parsing_timezone:</td>\n",
              "<td>UTC</td></tr>\n",
              "<tr><td>H2O_cluster_version:</td>\n",
              "<td>3.42.0.1</td></tr>\n",
              "<tr><td>H2O_cluster_version_age:</td>\n",
              "<td>28 days, 19 hours and 30 minutes</td></tr>\n",
              "<tr><td>H2O_cluster_name:</td>\n",
              "<td>H2O_from_python_unknownUser_bs31vn</td></tr>\n",
              "<tr><td>H2O_cluster_total_nodes:</td>\n",
              "<td>1</td></tr>\n",
              "<tr><td>H2O_cluster_free_memory:</td>\n",
              "<td>3.170 Gb</td></tr>\n",
              "<tr><td>H2O_cluster_total_cores:</td>\n",
              "<td>2</td></tr>\n",
              "<tr><td>H2O_cluster_allowed_cores:</td>\n",
              "<td>2</td></tr>\n",
              "<tr><td>H2O_cluster_status:</td>\n",
              "<td>locked, healthy</td></tr>\n",
              "<tr><td>H2O_connection_url:</td>\n",
              "<td>http://127.0.0.1:54321</td></tr>\n",
              "<tr><td>H2O_connection_proxy:</td>\n",
              "<td>{\"http\": null, \"https\": null, \"colab_language_server\": \"/usr/colab/bin/language_service\"}</td></tr>\n",
              "<tr><td>H2O_internal_security:</td>\n",
              "<td>False</td></tr>\n",
              "<tr><td>Python_version:</td>\n",
              "<td>3.10.12 final</td></tr></tbody>\n",
              "  </table>\n",
              "</div>\n"
            ]
          },
          "metadata": {}
        }
      ]
    },
    {
      "cell_type": "code",
      "source": [
        "dataframe = h2o.H2OFrame(df)"
      ],
      "metadata": {
        "colab": {
          "base_uri": "https://localhost:8080/"
        },
        "id": "xuZAzJ4hCs7Z",
        "outputId": "03e67378-29d1-4dda-8568-8827907975fd"
      },
      "execution_count": null,
      "outputs": [
        {
          "output_type": "stream",
          "name": "stdout",
          "text": [
            "Parse progress: |████████████████████████████████████████████████████████████████| (done) 100%\n"
          ]
        }
      ]
    },
    {
      "cell_type": "code",
      "source": [
        "y = \"density_percent\"\n",
        "x = dataframe.columns\n",
        "x.remove(y)\n",
        "x"
      ],
      "metadata": {
        "colab": {
          "base_uri": "https://localhost:8080/"
        },
        "id": "VNTm09C5AwsK",
        "outputId": "707dae6d-9776-4e47-8a19-58ec7fd0689d"
      },
      "execution_count": null,
      "outputs": [
        {
          "output_type": "execute_result",
          "data": {
            "text/plain": [
              "['meanWidth',\n",
              " 'meanHeight',\n",
              " 'meanLength',\n",
              " 'meanVolume',\n",
              " 'countStacking',\n",
              " 'countTurnover',\n",
              " 'boxesCount',\n",
              " 'loadingWidth',\n",
              " 'loadingHeight',\n",
              " 'loadingLength']"
            ]
          },
          "metadata": {},
          "execution_count": 7
        }
      ]
    },
    {
      "cell_type": "code",
      "source": [
        "splits = dataframe.split_frame(ratios=[0.8],seed=1)\n",
        "train = splits[0]\n",
        "test = splits[1]"
      ],
      "metadata": {
        "id": "8chJ8-bqDL9c"
      },
      "execution_count": null,
      "outputs": []
    },
    {
      "cell_type": "code",
      "source": [
        "aml = H2OAutoML(max_runtime_secs=120, seed=1)\n",
        "aml.train(x=x,y=y, training_frame=train, validation_frame = test)"
      ],
      "metadata": {
        "colab": {
          "base_uri": "https://localhost:8080/",
          "height": 1000
        },
        "id": "-S0b2Wn8Bgvb",
        "outputId": "a087a140-5f61-426c-d8e2-a59119f9befe"
      },
      "execution_count": null,
      "outputs": [
        {
          "output_type": "stream",
          "name": "stdout",
          "text": [
            "AutoML progress: |\n",
            "13:19:14.439: User specified a validation frame with cross-validation still enabled. Please note that the models will still be validated using cross-validation only, the validation frame will be used to provide purely informative validation metrics on the trained models.\n",
            "\n",
            "███████████████████████████████████████████████████████████████| (done) 100%\n"
          ]
        },
        {
          "output_type": "execute_result",
          "data": {
            "text/plain": [
              "Model Details\n",
              "=============\n",
              "H2OStackedEnsembleEstimator : Stacked Ensemble\n",
              "Model Key: StackedEnsemble_BestOfFamily_4_AutoML_1_20230719_131914\n",
              "\n",
              "\n",
              "Model Summary for Stacked Ensemble: \n",
              "key                                        value\n",
              "-----------------------------------------  ----------------\n",
              "Stacking strategy                          cross_validation\n",
              "Number of base models (used / total)       5/6\n",
              "# GBM base models (used / total)           1/1\n",
              "# XGBoost base models (used / total)       1/1\n",
              "# DRF base models (used / total)           2/2\n",
              "# DeepLearning base models (used / total)  0/1\n",
              "# GLM base models (used / total)           1/1\n",
              "Metalearner algorithm                      GLM\n",
              "Metalearner fold assignment scheme         Random\n",
              "Metalearner nfolds                         5\n",
              "Metalearner fold_column\n",
              "Custom metalearner hyperparameters         None\n",
              "\n",
              "ModelMetricsRegressionGLM: stackedensemble\n",
              "** Reported on train data. **\n",
              "\n",
              "MSE: 16.180174377644864\n",
              "RMSE: 4.02245874778659\n",
              "MAE: 2.9300718785105495\n",
              "RMSLE: 0.09081137516612402\n",
              "Mean Residual Deviance: 16.180174377644864\n",
              "R^2: 0.9535061470932028\n",
              "Null degrees of freedom: 497\n",
              "Residual degrees of freedom: 492\n",
              "Null deviance: 173307.3586355674\n",
              "Residual deviance: 8057.726840067142\n",
              "AIC: 2813.5885501588955\n",
              "\n",
              "ModelMetricsRegressionGLM: stackedensemble\n",
              "** Reported on validation data. **\n",
              "\n",
              "MSE: 140.89639058228786\n",
              "RMSE: 11.869978541778746\n",
              "MAE: 8.308866418833304\n",
              "RMSLE: 0.18048541620726694\n",
              "Mean Residual Deviance: 140.89639058228786\n",
              "R^2: 0.4820353957881902\n",
              "Null degrees of freedom: 129\n",
              "Residual degrees of freedom: 124\n",
              "Null deviance: 35492.831111480395\n",
              "Residual deviance: 18316.53077569742\n",
              "AIC: 1026.1672428543893\n",
              "\n",
              "ModelMetricsRegressionGLM: stackedensemble\n",
              "** Reported on cross-validation data. **\n",
              "\n",
              "MSE: 169.15000316900029\n",
              "RMSE: 13.005768073012847\n",
              "MAE: 8.861640606385864\n",
              "RMSLE: 0.22444057980212814\n",
              "Mean Residual Deviance: 169.15000316900029\n",
              "R^2: 0.5139461922370115\n",
              "Null degrees of freedom: 497\n",
              "Residual degrees of freedom: 492\n",
              "Null deviance: 174079.12378917253\n",
              "Residual deviance: 84236.70157816214\n",
              "AIC: 3982.394164224716\n",
              "\n",
              "Cross-Validation Metrics Summary: \n",
              "                        mean      sd         cv_1_valid    cv_2_valid    cv_3_valid    cv_4_valid    cv_5_valid\n",
              "----------------------  --------  ---------  ------------  ------------  ------------  ------------  ------------\n",
              "mae                     8.90599   0.690689   10.054        8.21967       8.61227       8.91945       8.7246\n",
              "mean_residual_deviance  168.519   29.0107    193.842       138.394       203.809       145.94        160.61\n",
              "mse                     168.519   29.0107    193.842       138.394       203.809       145.94        160.61\n",
              "null_deviance           34815.8   6298.27    39409.2       37916.4       40566.1       26590.2       29597.3\n",
              "r2                      0.508239  0.0587765  0.512337      0.605226      0.495451      0.477005      0.451175\n",
              "residual_deviance       16737.2   2645.26    19190.4       14946.6       19769.4       13718.3       16061\n",
              "rmse                    12.9434   1.1117     13.9227       11.7641       14.2762       12.0806       12.6732\n",
              "rmsle                   0.219539  0.0482961  0.23932       0.211725      0.291619      0.168846      0.186187\n",
              "\n",
              "[tips]\n",
              "Use `model.explain()` to inspect the model.\n",
              "--\n",
              "Use `h2o.display.toggle_user_tips()` to switch on/off this section."
            ],
            "text/html": [
              "<pre style='margin: 1em 0 1em 0;'>Model Details\n",
              "=============\n",
              "H2OStackedEnsembleEstimator : Stacked Ensemble\n",
              "Model Key: StackedEnsemble_BestOfFamily_4_AutoML_1_20230719_131914\n",
              "</pre>\n",
              "<div style='margin: 1em 0 1em 0;'>\n",
              "<style>\n",
              "\n",
              "#h2o-table-2.h2o-container {\n",
              "  overflow-x: auto;\n",
              "}\n",
              "#h2o-table-2 .h2o-table {\n",
              "  /* width: 100%; */\n",
              "  margin-top: 1em;\n",
              "  margin-bottom: 1em;\n",
              "}\n",
              "#h2o-table-2 .h2o-table caption {\n",
              "  white-space: nowrap;\n",
              "  caption-side: top;\n",
              "  text-align: left;\n",
              "  /* margin-left: 1em; */\n",
              "  margin: 0;\n",
              "  font-size: larger;\n",
              "}\n",
              "#h2o-table-2 .h2o-table thead {\n",
              "  white-space: nowrap; \n",
              "  position: sticky;\n",
              "  top: 0;\n",
              "  box-shadow: 0 -1px inset;\n",
              "}\n",
              "#h2o-table-2 .h2o-table tbody {\n",
              "  overflow: auto;\n",
              "}\n",
              "#h2o-table-2 .h2o-table th,\n",
              "#h2o-table-2 .h2o-table td {\n",
              "  text-align: right;\n",
              "  /* border: 1px solid; */\n",
              "}\n",
              "#h2o-table-2 .h2o-table tr:nth-child(even) {\n",
              "  /* background: #F5F5F5 */\n",
              "}\n",
              "\n",
              "</style>      \n",
              "<div id=\"h2o-table-2\" class=\"h2o-container\">\n",
              "  <table class=\"h2o-table\">\n",
              "    <caption>Model Summary for Stacked Ensemble: </caption>\n",
              "    <thead><tr><th>key</th>\n",
              "<th>value</th></tr></thead>\n",
              "    <tbody><tr><td>Stacking strategy</td>\n",
              "<td>cross_validation</td></tr>\n",
              "<tr><td>Number of base models (used / total)</td>\n",
              "<td>5/6</td></tr>\n",
              "<tr><td># GBM base models (used / total)</td>\n",
              "<td>1/1</td></tr>\n",
              "<tr><td># XGBoost base models (used / total)</td>\n",
              "<td>1/1</td></tr>\n",
              "<tr><td># DRF base models (used / total)</td>\n",
              "<td>2/2</td></tr>\n",
              "<tr><td># DeepLearning base models (used / total)</td>\n",
              "<td>0/1</td></tr>\n",
              "<tr><td># GLM base models (used / total)</td>\n",
              "<td>1/1</td></tr>\n",
              "<tr><td>Metalearner algorithm</td>\n",
              "<td>GLM</td></tr>\n",
              "<tr><td>Metalearner fold assignment scheme</td>\n",
              "<td>Random</td></tr>\n",
              "<tr><td>Metalearner nfolds</td>\n",
              "<td>5</td></tr>\n",
              "<tr><td>Metalearner fold_column</td>\n",
              "<td>None</td></tr>\n",
              "<tr><td>Custom metalearner hyperparameters</td>\n",
              "<td>None</td></tr></tbody>\n",
              "  </table>\n",
              "</div>\n",
              "</div>\n",
              "<div style='margin: 1em 0 1em 0;'><pre style='margin: 1em 0 1em 0;'>ModelMetricsRegressionGLM: stackedensemble\n",
              "** Reported on train data. **\n",
              "\n",
              "MSE: 16.180174377644864\n",
              "RMSE: 4.02245874778659\n",
              "MAE: 2.9300718785105495\n",
              "RMSLE: 0.09081137516612402\n",
              "Mean Residual Deviance: 16.180174377644864\n",
              "R^2: 0.9535061470932028\n",
              "Null degrees of freedom: 497\n",
              "Residual degrees of freedom: 492\n",
              "Null deviance: 173307.3586355674\n",
              "Residual deviance: 8057.726840067142\n",
              "AIC: 2813.5885501588955</pre></div>\n",
              "<div style='margin: 1em 0 1em 0;'><pre style='margin: 1em 0 1em 0;'>ModelMetricsRegressionGLM: stackedensemble\n",
              "** Reported on validation data. **\n",
              "\n",
              "MSE: 140.89639058228786\n",
              "RMSE: 11.869978541778746\n",
              "MAE: 8.308866418833304\n",
              "RMSLE: 0.18048541620726694\n",
              "Mean Residual Deviance: 140.89639058228786\n",
              "R^2: 0.4820353957881902\n",
              "Null degrees of freedom: 129\n",
              "Residual degrees of freedom: 124\n",
              "Null deviance: 35492.831111480395\n",
              "Residual deviance: 18316.53077569742\n",
              "AIC: 1026.1672428543893</pre></div>\n",
              "<div style='margin: 1em 0 1em 0;'><pre style='margin: 1em 0 1em 0;'>ModelMetricsRegressionGLM: stackedensemble\n",
              "** Reported on cross-validation data. **\n",
              "\n",
              "MSE: 169.15000316900029\n",
              "RMSE: 13.005768073012847\n",
              "MAE: 8.861640606385864\n",
              "RMSLE: 0.22444057980212814\n",
              "Mean Residual Deviance: 169.15000316900029\n",
              "R^2: 0.5139461922370115\n",
              "Null degrees of freedom: 497\n",
              "Residual degrees of freedom: 492\n",
              "Null deviance: 174079.12378917253\n",
              "Residual deviance: 84236.70157816214\n",
              "AIC: 3982.394164224716</pre></div>\n",
              "<div style='margin: 1em 0 1em 0;'>\n",
              "<style>\n",
              "\n",
              "#h2o-table-3.h2o-container {\n",
              "  overflow-x: auto;\n",
              "}\n",
              "#h2o-table-3 .h2o-table {\n",
              "  /* width: 100%; */\n",
              "  margin-top: 1em;\n",
              "  margin-bottom: 1em;\n",
              "}\n",
              "#h2o-table-3 .h2o-table caption {\n",
              "  white-space: nowrap;\n",
              "  caption-side: top;\n",
              "  text-align: left;\n",
              "  /* margin-left: 1em; */\n",
              "  margin: 0;\n",
              "  font-size: larger;\n",
              "}\n",
              "#h2o-table-3 .h2o-table thead {\n",
              "  white-space: nowrap; \n",
              "  position: sticky;\n",
              "  top: 0;\n",
              "  box-shadow: 0 -1px inset;\n",
              "}\n",
              "#h2o-table-3 .h2o-table tbody {\n",
              "  overflow: auto;\n",
              "}\n",
              "#h2o-table-3 .h2o-table th,\n",
              "#h2o-table-3 .h2o-table td {\n",
              "  text-align: right;\n",
              "  /* border: 1px solid; */\n",
              "}\n",
              "#h2o-table-3 .h2o-table tr:nth-child(even) {\n",
              "  /* background: #F5F5F5 */\n",
              "}\n",
              "\n",
              "</style>      \n",
              "<div id=\"h2o-table-3\" class=\"h2o-container\">\n",
              "  <table class=\"h2o-table\">\n",
              "    <caption>Cross-Validation Metrics Summary: </caption>\n",
              "    <thead><tr><th></th>\n",
              "<th>mean</th>\n",
              "<th>sd</th>\n",
              "<th>cv_1_valid</th>\n",
              "<th>cv_2_valid</th>\n",
              "<th>cv_3_valid</th>\n",
              "<th>cv_4_valid</th>\n",
              "<th>cv_5_valid</th></tr></thead>\n",
              "    <tbody><tr><td>mae</td>\n",
              "<td>8.905992</td>\n",
              "<td>0.6906890</td>\n",
              "<td>10.053955</td>\n",
              "<td>8.219674</td>\n",
              "<td>8.612273</td>\n",
              "<td>8.919455</td>\n",
              "<td>8.724603</td></tr>\n",
              "<tr><td>mean_residual_deviance</td>\n",
              "<td>168.51904</td>\n",
              "<td>29.01072</td>\n",
              "<td>193.84238</td>\n",
              "<td>138.39435</td>\n",
              "<td>203.8085</td>\n",
              "<td>145.93976</td>\n",
              "<td>160.61021</td></tr>\n",
              "<tr><td>mse</td>\n",
              "<td>168.51904</td>\n",
              "<td>29.01072</td>\n",
              "<td>193.84238</td>\n",
              "<td>138.39435</td>\n",
              "<td>203.8085</td>\n",
              "<td>145.93976</td>\n",
              "<td>160.61021</td></tr>\n",
              "<tr><td>null_deviance</td>\n",
              "<td>34815.824</td>\n",
              "<td>6298.2695</td>\n",
              "<td>39409.24</td>\n",
              "<td>37916.355</td>\n",
              "<td>40566.08</td>\n",
              "<td>26590.164</td>\n",
              "<td>29597.287</td></tr>\n",
              "<tr><td>r2</td>\n",
              "<td>0.5082388</td>\n",
              "<td>0.0587765</td>\n",
              "<td>0.5123367</td>\n",
              "<td>0.6052261</td>\n",
              "<td>0.4954515</td>\n",
              "<td>0.4770050</td>\n",
              "<td>0.4511748</td></tr>\n",
              "<tr><td>residual_deviance</td>\n",
              "<td>16737.154</td>\n",
              "<td>2645.259</td>\n",
              "<td>19190.395</td>\n",
              "<td>14946.59</td>\n",
              "<td>19769.424</td>\n",
              "<td>13718.337</td>\n",
              "<td>16061.021</td></tr>\n",
              "<tr><td>rmse</td>\n",
              "<td>12.943351</td>\n",
              "<td>1.1117034</td>\n",
              "<td>13.922729</td>\n",
              "<td>11.764113</td>\n",
              "<td>14.276152</td>\n",
              "<td>12.080553</td>\n",
              "<td>12.673208</td></tr>\n",
              "<tr><td>rmsle</td>\n",
              "<td>0.2195392</td>\n",
              "<td>0.0482961</td>\n",
              "<td>0.2393198</td>\n",
              "<td>0.2117246</td>\n",
              "<td>0.2916191</td>\n",
              "<td>0.1688459</td>\n",
              "<td>0.1861867</td></tr></tbody>\n",
              "  </table>\n",
              "</div>\n",
              "</div><pre style=\"font-size: smaller; margin: 1em 0 0 0;\">\n",
              "\n",
              "[tips]\n",
              "Use `model.explain()` to inspect the model.\n",
              "--\n",
              "Use `h2o.display.toggle_user_tips()` to switch on/off this section.</pre>"
            ]
          },
          "metadata": {},
          "execution_count": 9
        }
      ]
    },
    {
      "cell_type": "code",
      "source": [
        "lb = aml.leaderboard\n",
        "lb.head()"
      ],
      "metadata": {
        "colab": {
          "base_uri": "https://localhost:8080/",
          "height": 409
        },
        "id": "v2NM1C1CDKjR",
        "outputId": "6b8693b3-6d49-4b52-a936-63d154a1ece1"
      },
      "execution_count": null,
      "outputs": [
        {
          "output_type": "execute_result",
          "data": {
            "text/plain": [
              "model_id                                                    rmse      mse      mae     rmsle    mean_residual_deviance\n",
              "-------------------------------------------------------  -------  -------  -------  --------  ------------------------\n",
              "StackedEnsemble_BestOfFamily_4_AutoML_1_20230719_131914  13.0058  169.15   8.86164  0.224441                   169.15\n",
              "GBM_grid_1_AutoML_1_20230719_131914_model_8              13.09    171.348  8.44745  0.222906                   171.348\n",
              "StackedEnsemble_AllModels_3_AutoML_1_20230719_131914     13.1385  172.62   8.97402  0.224901                   172.62\n",
              "XGBoost_grid_1_AutoML_1_20230719_131914_model_2          13.1621  173.24   8.50322  0.22161                    173.24\n",
              "StackedEnsemble_BestOfFamily_3_AutoML_1_20230719_131914  13.1783  173.668  9.03891  0.226519                   173.668\n",
              "DRF_1_AutoML_1_20230719_131914                           13.1914  174.012  8.95567  0.226571                   174.012\n",
              "GBM_grid_1_AutoML_1_20230719_131914_model_21             13.1918  174.023  8.46002  0.222825                   174.023\n",
              "StackedEnsemble_AllModels_2_AutoML_1_20230719_131914     13.2093  174.485  8.98051  0.227176                   174.485\n",
              "XRT_1_AutoML_1_20230719_131914                           13.2096  174.492  8.90027  0.226301                   174.492\n",
              "StackedEnsemble_AllModels_1_AutoML_1_20230719_131914     13.2686  176.057  9.20756  0.229498                   176.057\n",
              "[10 rows x 6 columns]\n"
            ],
            "text/html": [
              "<table class='dataframe'>\n",
              "<thead>\n",
              "<tr><th>model_id                                               </th><th style=\"text-align: right;\">   rmse</th><th style=\"text-align: right;\">    mse</th><th style=\"text-align: right;\">    mae</th><th style=\"text-align: right;\">   rmsle</th><th style=\"text-align: right;\">  mean_residual_deviance</th></tr>\n",
              "</thead>\n",
              "<tbody>\n",
              "<tr><td>StackedEnsemble_BestOfFamily_4_AutoML_1_20230719_131914</td><td style=\"text-align: right;\">13.0058</td><td style=\"text-align: right;\">169.15 </td><td style=\"text-align: right;\">8.86164</td><td style=\"text-align: right;\">0.224441</td><td style=\"text-align: right;\">                 169.15 </td></tr>\n",
              "<tr><td>GBM_grid_1_AutoML_1_20230719_131914_model_8            </td><td style=\"text-align: right;\">13.09  </td><td style=\"text-align: right;\">171.348</td><td style=\"text-align: right;\">8.44745</td><td style=\"text-align: right;\">0.222906</td><td style=\"text-align: right;\">                 171.348</td></tr>\n",
              "<tr><td>StackedEnsemble_AllModels_3_AutoML_1_20230719_131914   </td><td style=\"text-align: right;\">13.1385</td><td style=\"text-align: right;\">172.62 </td><td style=\"text-align: right;\">8.97402</td><td style=\"text-align: right;\">0.224901</td><td style=\"text-align: right;\">                 172.62 </td></tr>\n",
              "<tr><td>XGBoost_grid_1_AutoML_1_20230719_131914_model_2        </td><td style=\"text-align: right;\">13.1621</td><td style=\"text-align: right;\">173.24 </td><td style=\"text-align: right;\">8.50322</td><td style=\"text-align: right;\">0.22161 </td><td style=\"text-align: right;\">                 173.24 </td></tr>\n",
              "<tr><td>StackedEnsemble_BestOfFamily_3_AutoML_1_20230719_131914</td><td style=\"text-align: right;\">13.1783</td><td style=\"text-align: right;\">173.668</td><td style=\"text-align: right;\">9.03891</td><td style=\"text-align: right;\">0.226519</td><td style=\"text-align: right;\">                 173.668</td></tr>\n",
              "<tr><td>DRF_1_AutoML_1_20230719_131914                         </td><td style=\"text-align: right;\">13.1914</td><td style=\"text-align: right;\">174.012</td><td style=\"text-align: right;\">8.95567</td><td style=\"text-align: right;\">0.226571</td><td style=\"text-align: right;\">                 174.012</td></tr>\n",
              "<tr><td>GBM_grid_1_AutoML_1_20230719_131914_model_21           </td><td style=\"text-align: right;\">13.1918</td><td style=\"text-align: right;\">174.023</td><td style=\"text-align: right;\">8.46002</td><td style=\"text-align: right;\">0.222825</td><td style=\"text-align: right;\">                 174.023</td></tr>\n",
              "<tr><td>StackedEnsemble_AllModels_2_AutoML_1_20230719_131914   </td><td style=\"text-align: right;\">13.2093</td><td style=\"text-align: right;\">174.485</td><td style=\"text-align: right;\">8.98051</td><td style=\"text-align: right;\">0.227176</td><td style=\"text-align: right;\">                 174.485</td></tr>\n",
              "<tr><td>XRT_1_AutoML_1_20230719_131914                         </td><td style=\"text-align: right;\">13.2096</td><td style=\"text-align: right;\">174.492</td><td style=\"text-align: right;\">8.90027</td><td style=\"text-align: right;\">0.226301</td><td style=\"text-align: right;\">                 174.492</td></tr>\n",
              "<tr><td>StackedEnsemble_AllModels_1_AutoML_1_20230719_131914   </td><td style=\"text-align: right;\">13.2686</td><td style=\"text-align: right;\">176.057</td><td style=\"text-align: right;\">9.20756</td><td style=\"text-align: right;\">0.229498</td><td style=\"text-align: right;\">                 176.057</td></tr>\n",
              "</tbody>\n",
              "</table><pre style='font-size: smaller; margin-bottom: 1em;'>[10 rows x 6 columns]</pre>"
            ]
          },
          "metadata": {},
          "execution_count": 10
        }
      ]
    },
    {
      "cell_type": "code",
      "source": [
        "performance = aml.leader.model_performance(test)\n",
        "print(performance)"
      ],
      "metadata": {
        "colab": {
          "base_uri": "https://localhost:8080/"
        },
        "id": "3uClyljoPX57",
        "outputId": "8ee37984-f121-4761-9b27-898e1628a217"
      },
      "execution_count": null,
      "outputs": [
        {
          "output_type": "stream",
          "name": "stdout",
          "text": [
            "ModelMetricsRegressionGLM: stackedensemble\n",
            "** Reported on test data. **\n",
            "\n",
            "MSE: 140.89639058228786\n",
            "RMSE: 11.869978541778746\n",
            "MAE: 8.308866418833304\n",
            "RMSLE: 0.18048541620726694\n",
            "Mean Residual Deviance: 140.89639058228786\n",
            "R^2: 0.4820353957881902\n",
            "Null degrees of freedom: 129\n",
            "Residual degrees of freedom: 124\n",
            "Null deviance: 35492.831111480395\n",
            "Residual deviance: 18316.53077569742\n",
            "AIC: 1026.1672428543893\n"
          ]
        }
      ]
    },
    {
      "cell_type": "code",
      "source": [
        "pred = aml.predict(test)"
      ],
      "metadata": {
        "colab": {
          "base_uri": "https://localhost:8080/"
        },
        "id": "7ffnsNPmFkLR",
        "outputId": "c95b7031-f19f-47ec-d581-a0d51491d0be"
      },
      "execution_count": null,
      "outputs": [
        {
          "output_type": "stream",
          "name": "stdout",
          "text": [
            "stackedensemble prediction progress: |███████████████████████████████████████████| (done) 100%\n"
          ]
        }
      ]
    },
    {
      "cell_type": "code",
      "source": [
        "pred['predict']"
      ],
      "metadata": {
        "colab": {
          "base_uri": "https://localhost:8080/",
          "height": 389
        },
        "id": "eUjeCt9UU2fa",
        "outputId": "ee6066b2-cebe-4583-cf95-f899714ce67b"
      },
      "execution_count": null,
      "outputs": [
        {
          "output_type": "execute_result",
          "data": {
            "text/plain": [
              "  predict\n",
              "---------\n",
              "  73.0698\n",
              "  60.1488\n",
              "  53.8613\n",
              "  91.5756\n",
              "  80.3978\n",
              "  84.6595\n",
              "  92.9226\n",
              "  84.4207\n",
              "  86.9228\n",
              "  69.709\n",
              "[130 rows x 1 column]\n"
            ],
            "text/html": [
              "<table class='dataframe'>\n",
              "<thead>\n",
              "<tr><th style=\"text-align: right;\">  predict</th></tr>\n",
              "</thead>\n",
              "<tbody>\n",
              "<tr><td style=\"text-align: right;\">  73.0698</td></tr>\n",
              "<tr><td style=\"text-align: right;\">  60.1488</td></tr>\n",
              "<tr><td style=\"text-align: right;\">  53.8613</td></tr>\n",
              "<tr><td style=\"text-align: right;\">  91.5756</td></tr>\n",
              "<tr><td style=\"text-align: right;\">  80.3978</td></tr>\n",
              "<tr><td style=\"text-align: right;\">  84.6595</td></tr>\n",
              "<tr><td style=\"text-align: right;\">  92.9226</td></tr>\n",
              "<tr><td style=\"text-align: right;\">  84.4207</td></tr>\n",
              "<tr><td style=\"text-align: right;\">  86.9228</td></tr>\n",
              "<tr><td style=\"text-align: right;\">  69.709 </td></tr>\n",
              "</tbody>\n",
              "</table><pre style='font-size: smaller; margin-bottom: 1em;'>[130 rows x 1 column]</pre>"
            ]
          },
          "metadata": {},
          "execution_count": 22
        }
      ]
    },
    {
      "cell_type": "code",
      "source": [
        "pred_df['predict'][0]"
      ],
      "metadata": {
        "colab": {
          "base_uri": "https://localhost:8080/"
        },
        "id": "jUKXVusqUDx_",
        "outputId": "21e36c5a-b9f8-4da3-aad6-4f19bcf902e5"
      },
      "execution_count": null,
      "outputs": [
        {
          "output_type": "execute_result",
          "data": {
            "text/plain": [
              "73.0698133460502"
            ]
          },
          "metadata": {},
          "execution_count": 20
        }
      ]
    },
    {
      "cell_type": "code",
      "source": [
        "test_df = test.as_data_frame()\n",
        "pred_df = pred.as_data_frame()"
      ],
      "metadata": {
        "id": "-ENK8G85Hc8W"
      },
      "execution_count": null,
      "outputs": []
    },
    {
      "cell_type": "code",
      "source": [
        "import matplotlib.pyplot as plt\n",
        "import warnings\n",
        "warnings.filterwarnings('ignore')\n",
        "plt.plot(list(range(1, 51)), test_df['density_percent'][:50],  label=\"Реальные значения\")\n",
        "plt.plot(list(range(1, 51)), pred_df[:50], label=\"Предсказания\")\n",
        "plt.legend(loc=\"lower left\")\n",
        "plt.ylabel(\"Плотность размещения в %\")\n",
        "plt.xlabel(\"Тестовая выборка\")\n",
        "plt.show()"
      ],
      "metadata": {
        "colab": {
          "base_uri": "https://localhost:8080/",
          "height": 449
        },
        "id": "NDRtYnwYHE2Q",
        "outputId": "2090c0b9-85e2-49a2-94dc-c96c7ad7c3b6"
      },
      "execution_count": null,
      "outputs": [
        {
          "output_type": "display_data",
          "data": {
            "text/plain": [
              "<Figure size 640x480 with 1 Axes>"
            ],
            "image/png": "[encoded data removed]"
          },
          "metadata": {}
        }
      ]
    },
    {
      "cell_type": "code",
      "source": [
        "model_path = h2o.save_model(model=aml.leader, path=\"/tmp/mymodel\", force=True)\n",
        "print(model_path)"
      ],
      "metadata": {
        "colab": {
          "base_uri": "https://localhost:8080/"
        },
        "id": "isI0rQPaw_QC",
        "outputId": "9f70492b-53d1-4ac3-a14f-7fef705f2424"
      },
      "execution_count": null,
      "outputs": [
        {
          "output_type": "stream",
          "name": "stdout",
          "text": [
            "/tmp/mymodel/StackedEnsemble_BestOfFamily_4_AutoML_5_20230717_164905\n"
          ]
        }
      ]
    },
    {
      "cell_type": "code",
      "source": [
        "path = '/content/model.zip'\n",
        "aml.leader.save_mojo(path)"
      ],
      "metadata": {
        "colab": {
          "base_uri": "https://localhost:8080/",
          "height": 35
        },
        "id": "yM-v4Gqb3k_q",
        "outputId": "12257c2d-7ce1-4e3a-9a91-cf52d6fbd44f"
      },
      "execution_count": null,
      "outputs": [
        {
          "output_type": "execute_result",
          "data": {
            "text/plain": [
              "'/content/model.zip/StackedEnsemble_BestOfFamily_4_AutoML_5_20230717_164905.zip'"
            ],
            "application/vnd.google.colaboratory.intrinsic+json": {
              "type": "string"
            }
          },
          "metadata": {},
          "execution_count": 83
        }
      ]
    },
    {
      "cell_type": "code",
      "source": [
        "imported_model = h2o.import_mojo('/content/model.zip/StackedEnsemble_BestOfFamily_4_AutoML_5_20230717_164905.zip')"
      ],
      "metadata": {
        "colab": {
          "base_uri": "https://localhost:8080/"
        },
        "id": "MvuhnIkn377v",
        "outputId": "cb0b87f4-2a9b-4e51-8a9b-026dbf667579"
      },
      "execution_count": null,
      "outputs": [
        {
          "output_type": "stream",
          "name": "stdout",
          "text": [
            "generic Model Build progress: |██████████████████████████████████████████████████| (done) 100%\n"
          ]
        }
      ]
    },
    {
      "cell_type": "code",
      "source": [
        "saved_model = h2o.load_model(model_path)\n",
        "\n",
        "# download the model built above to your local machine\n",
        "my_local_model = h2o.download_model(aml.leader, path=\"/Users/Denis/Desktop\")\n",
        "print(my_local_model)"
      ],
      "metadata": {
        "colab": {
          "base_uri": "https://localhost:8080/"
        },
        "id": "0spqi31kw_Fd",
        "outputId": "bcb1f88d-56ec-46ae-fe88-8b58d5777383"
      },
      "execution_count": null,
      "outputs": [
        {
          "output_type": "stream",
          "name": "stdout",
          "text": [
            "/Users/Denis/Desktop/StackedEnsemble_BestOfFamily_4_AutoML_5_20230717_164905\n"
          ]
        }
      ]
    },
    {
      "cell_type": "code",
      "source": [
        "p = saved_model.pedict(test)"
      ],
      "metadata": {
        "colab": {
          "base_uri": "https://localhost:8080/",
          "height": 311
        },
        "id": "cE4Fh7tr244o",
        "outputId": "66eba239-ecdd-4c7b-f5b8-a8b8921c0afe"
      },
      "execution_count": null,
      "outputs": [
        {
          "output_type": "error",
          "ename": "AttributeError",
          "evalue": "ignored",
          "traceback": [
            "\u001b[0;31m---------------------------------------------------------------------------\u001b[0m",
            "\u001b[0;31mAttributeError\u001b[0m                            Traceback (most recent call last)",
            "\u001b[0;32m<ipython-input-82-da3457c230da>\u001b[0m in \u001b[0;36m<cell line: 1>\u001b[0;34m()\u001b[0m\n\u001b[0;32m----> 1\u001b[0;31m \u001b[0mp\u001b[0m \u001b[0;34m=\u001b[0m \u001b[0msaved_model\u001b[0m\u001b[0;34m.\u001b[0m\u001b[0mpedict\u001b[0m\u001b[0;34m(\u001b[0m\u001b[0mtest\u001b[0m\u001b[0;34m)\u001b[0m\u001b[0;34m\u001b[0m\u001b[0;34m\u001b[0m\u001b[0m\n\u001b[0m",
            "\u001b[0;32m/usr/local/lib/python3.10/dist-packages/h2o/utils/metaclass.py\u001b[0m in \u001b[0;36m__getattr__\u001b[0;34m(self, name)\u001b[0m\n\u001b[1;32m    350\u001b[0m             \u001b[0;32mif\u001b[0m \u001b[0mname\u001b[0m \u001b[0;34m!=\u001b[0m \u001b[0;34m'_bci'\u001b[0m \u001b[0;32mand\u001b[0m \u001b[0mname\u001b[0m \u001b[0;32min\u001b[0m \u001b[0mself\u001b[0m\u001b[0;34m.\u001b[0m\u001b[0m_bci\u001b[0m\u001b[0;34m:\u001b[0m\u001b[0;34m\u001b[0m\u001b[0;34m\u001b[0m\u001b[0m\n\u001b[1;32m    351\u001b[0m                 \u001b[0;32mreturn\u001b[0m \u001b[0mself\u001b[0m\u001b[0;34m.\u001b[0m\u001b[0m_bci\u001b[0m\u001b[0;34m[\u001b[0m\u001b[0mname\u001b[0m\u001b[0;34m]\u001b[0m\u001b[0;34m\u001b[0m\u001b[0;34m\u001b[0m\u001b[0m\n\u001b[0;32m--> 352\u001b[0;31m             \u001b[0;32mreturn\u001b[0m \u001b[0mgetattr\u001b[0m\u001b[0;34m(\u001b[0m\u001b[0mnew_clz\u001b[0m\u001b[0;34m,\u001b[0m \u001b[0mname\u001b[0m\u001b[0;34m)\u001b[0m\u001b[0;34m\u001b[0m\u001b[0;34m\u001b[0m\u001b[0m\n\u001b[0m\u001b[1;32m    353\u001b[0m \u001b[0;34m\u001b[0m\u001b[0m\n\u001b[1;32m    354\u001b[0m         \u001b[0mnew_clz\u001b[0m \u001b[0;34m=\u001b[0m \u001b[0mextend_and_replace\u001b[0m\u001b[0;34m(\u001b[0m\u001b[0mclz\u001b[0m\u001b[0;34m,\u001b[0m \u001b[0m__init__\u001b[0m\u001b[0;34m=\u001b[0m\u001b[0m__init__\u001b[0m\u001b[0;34m,\u001b[0m \u001b[0m__getattr__\u001b[0m\u001b[0;34m=\u001b[0m\u001b[0m__getattr__\u001b[0m\u001b[0;34m)\u001b[0m\u001b[0;34m\u001b[0m\u001b[0;34m\u001b[0m\u001b[0m\n",
            "\u001b[0;32m/usr/local/lib/python3.10/dist-packages/h2o/utils/metaclass.py\u001b[0m in \u001b[0;36m__getattribute__\u001b[0;34m(cls, name)\u001b[0m\n\u001b[1;32m    395\u001b[0m             \u001b[0;32mif\u001b[0m \u001b[0mattr\u001b[0m \u001b[0;32mis\u001b[0m \u001b[0;32mnot\u001b[0m \u001b[0mMetaFeature\u001b[0m\u001b[0;34m.\u001b[0m\u001b[0mNOT_FOUND\u001b[0m\u001b[0;34m:\u001b[0m\u001b[0;34m\u001b[0m\u001b[0;34m\u001b[0m\u001b[0m\n\u001b[1;32m    396\u001b[0m                 \u001b[0;32mreturn\u001b[0m \u001b[0mattr\u001b[0m\u001b[0;34m\u001b[0m\u001b[0;34m\u001b[0m\u001b[0m\n\u001b[0;32m--> 397\u001b[0;31m         \u001b[0;32mreturn\u001b[0m \u001b[0mtype\u001b[0m\u001b[0;34m.\u001b[0m\u001b[0m__getattribute__\u001b[0m\u001b[0;34m(\u001b[0m\u001b[0mcls\u001b[0m\u001b[0;34m,\u001b[0m \u001b[0mname\u001b[0m\u001b[0;34m)\u001b[0m\u001b[0;34m\u001b[0m\u001b[0;34m\u001b[0m\u001b[0m\n\u001b[0m\u001b[1;32m    398\u001b[0m \u001b[0;34m\u001b[0m\u001b[0m\n\u001b[1;32m    399\u001b[0m     \u001b[0;32mdef\u001b[0m \u001b[0m__setattr__\u001b[0m\u001b[0;34m(\u001b[0m\u001b[0mcls\u001b[0m\u001b[0;34m,\u001b[0m \u001b[0mname\u001b[0m\u001b[0;34m,\u001b[0m \u001b[0mvalue\u001b[0m\u001b[0;34m)\u001b[0m\u001b[0;34m:\u001b[0m\u001b[0;34m\u001b[0m\u001b[0;34m\u001b[0m\u001b[0m\n",
            "\u001b[0;31mAttributeError\u001b[0m: type object 'ModelBase' has no attribute 'pedict'"
          ]
        }
      ]
    },
    {
      "cell_type": "code",
      "source": [
        "from h2o.estimators import H2ODeepLearningEstimator\n",
        "\n",
        "new_model = H2ODeepLearningEstimator(distribution=\"AUTO\",\n",
        "                               epochs=150,\n",
        "                               train_samples_per_iteration=-1,\n",
        "                               reproducible=True,\n",
        "                               activation=\"Tanh\",\n",
        "                               single_node_mode=False,\n",
        "                               balance_classes=False,\n",
        "                               force_load_balance=False,\n",
        "                               seed=23123,\n",
        "                               score_training_samples=0,\n",
        "                               score_validation_samples=0,\n",
        "                               stopping_rounds=0)\n",
        "\n",
        "\n",
        "new_model.train(x=x,y=y, training_frame=train)"
      ],
      "metadata": {
        "id": "LKb7itVNEZ3K"
      },
      "execution_count": null,
      "outputs": []
    },
    {
      "cell_type": "code",
      "source": [
        "prediction = new_model.predict(test)"
      ],
      "metadata": {
        "colab": {
          "base_uri": "https://localhost:8080/"
        },
        "id": "qNHDfYJ9Kr6D",
        "outputId": "af37dfa9-919d-4333-829a-6d16be17d87d"
      },
      "execution_count": null,
      "outputs": [
        {
          "output_type": "stream",
          "name": "stdout",
          "text": [
            "deeplearning prediction progress: |██████████████████████████████████████████████| (done) 100%\n"
          ]
        }
      ]
    },
    {
      "cell_type": "code",
      "source": [
        "performance = new_model.model_performance(test)\n",
        "print(performance)"
      ],
      "metadata": {
        "colab": {
          "base_uri": "https://localhost:8080/"
        },
        "id": "xdlnRU-mN-Ex",
        "outputId": "59872dfb-77e6-43a0-e916-123d3488eeb2"
      },
      "execution_count": null,
      "outputs": [
        {
          "output_type": "stream",
          "name": "stdout",
          "text": [
            "ModelMetricsRegression: deeplearning\n",
            "** Reported on test data. **\n",
            "\n",
            "MSE: 250.02447090740955\n",
            "RMSE: 15.812162119944556\n",
            "MAE: 11.378224806078377\n",
            "RMSLE: 0.23306802385457848\n",
            "Mean Residual Deviance: 250.02447090740955\n"
          ]
        }
      ]
    },
    {
      "cell_type": "code",
      "source": [
        "test_df = test.as_data_frame()\n",
        "pred_df = prediction.as_data_frame()"
      ],
      "metadata": {
        "id": "ji58X5hKK6f-"
      },
      "execution_count": null,
      "outputs": []
    },
    {
      "cell_type": "code",
      "source": [
        "import matplotlib.pyplot as plt\n",
        "import warnings\n",
        "warnings.filterwarnings('ignore')\n",
        "plt.plot(list(range(1, 51)), test_df['density_percent'][:50],  label=\"Реальные значения\")\n",
        "plt.plot(list(range(1, 51)), pred_df[:50], label=\"Предсказания\")\n",
        "plt.legend(loc=\"lower left\")\n",
        "plt.ylabel(\"Плотность размещения в %\")\n",
        "plt.xlabel(\"Тестовая выборка\")\n",
        "plt.show()"
      ],
      "metadata": {
        "colab": {
          "base_uri": "https://localhost:8080/",
          "height": 449
        },
        "id": "jPi-ZRr4K0_p",
        "outputId": "3c578156-7a00-4a9e-fa2c-00a3ad32383b"
      },
      "execution_count": null,
      "outputs": [
        {
          "output_type": "display_data",
          "data": {
            "text/plain": [
              "<Figure size 640x480 with 1 Axes>"
            ],
            "image/png": "[encoded data removed]"
          },
          "metadata": {}
        }
      ]
    },
    {
      "cell_type": "code",
      "source": [
        "from h2o.estimators import H2OGradientBoostingEstimator\n"
      ],
      "metadata": {
        "id": "mFa8CMKJS1uO"
      },
      "execution_count": null,
      "outputs": []
    },
    {
      "cell_type": "code",
      "source": [
        "new_model = H2OGradientBoostingEstimator()\n",
        "\n",
        "\n",
        "new_model.train(x=x,y=y, training_frame=train)"
      ],
      "metadata": {
        "colab": {
          "base_uri": "https://localhost:8080/",
          "height": 1000
        },
        "id": "-C4WiodpS5vU",
        "outputId": "6bf727a0-1472-423d-f024-829b96620939"
      },
      "execution_count": null,
      "outputs": [
        {
          "output_type": "stream",
          "name": "stdout",
          "text": [
            "gbm Model Build progress: |██████████████████████████████████████████████████████| (done) 100%\n"
          ]
        },
        {
          "output_type": "execute_result",
          "data": {
            "text/plain": [
              "Model Details\n",
              "=============\n",
              "H2OGradientBoostingEstimator : Gradient Boosting Machine\n",
              "Model Key: GBM_model_python_1689600629121_78\n",
              "\n",
              "\n",
              "Model Summary: \n",
              "    number_of_trees    number_of_internal_trees    model_size_in_bytes    min_depth    max_depth    mean_depth    min_leaves    max_leaves    mean_leaves\n",
              "--  -----------------  --------------------------  ---------------------  -----------  -----------  ------------  ------------  ------------  -------------\n",
              "    50                 50                          11719                  5            5            5             8             20            14.06\n",
              "\n",
              "ModelMetricsRegression: gbm\n",
              "** Reported on train data. **\n",
              "\n",
              "MSE: 81.33492574998482\n",
              "RMSE: 9.018587791333232\n",
              "MAE: 6.747384320301224\n",
              "RMSLE: 0.16621548180542287\n",
              "Mean Residual Deviance: 81.33492574998482\n",
              "\n",
              "Scoring History: \n",
              "     timestamp            duration    number_of_trees    training_rmse       training_mae        training_deviance\n",
              "---  -------------------  ----------  -----------------  ------------------  ------------------  -------------------\n",
              "     2023-07-17 14:41:00  0.008 sec   0.0                18.654938870125715  15.283729533548938  348.0067442481273\n",
              "     2023-07-17 14:41:00  0.029 sec   1.0                17.93664359476177   14.62861617980712   321.7231834455084\n",
              "     2023-07-17 14:41:00  0.053 sec   2.0                17.28278953679826   14.010180446517515  298.69481417326335\n",
              "     2023-07-17 14:41:00  0.064 sec   3.0                16.741505046638956  13.527795309043793  280.2779912266376\n",
              "     2023-07-17 14:41:00  0.083 sec   4.0                16.17667575842824   13.044831318070132  261.68483859331985\n",
              "     2023-07-17 14:41:01  0.094 sec   5.0                15.732294070538249  12.638570548061386  247.50507672189295\n",
              "     2023-07-17 14:41:01  0.109 sec   6.0                15.344073879980655  12.283504195002667  235.44060323430458\n",
              "     2023-07-17 14:41:01  0.117 sec   7.0                15.019710324173818  11.983090213024951  225.5916982220936\n",
              "     2023-07-17 14:41:01  0.126 sec   8.0                14.606073509222183  11.610224252723786  213.33738335680204\n",
              "     2023-07-17 14:41:01  0.142 sec   9.0                14.250658341248599  11.30989092325111   203.08126315899827\n",
              "---  ---                  ---         ---                ---                 ---                 ---\n",
              "     2023-07-17 14:41:01  0.521 sec   41.0               9.563042310856485   7.229396659207631   91.45177823923133\n",
              "     2023-07-17 14:41:01  0.532 sec   42.0               9.482204500160645   7.1619818660628844  89.91220218286678\n",
              "     2023-07-17 14:41:01  0.540 sec   43.0               9.453277670971486   7.131105737035054   89.3644587244881\n",
              "     2023-07-17 14:41:01  0.550 sec   44.0               9.37902996061695    7.072573910755326   87.96620300215041\n",
              "     2023-07-17 14:41:01  0.556 sec   45.0               9.303613822498079   7.0108254903770355  86.55723015817732\n",
              "     2023-07-17 14:41:01  0.563 sec   46.0               9.21145800759853    6.9174714069289855  84.85095862575109\n",
              "     2023-07-17 14:41:01  0.569 sec   47.0               9.174981928341861   6.887946086715024   84.18029338539972\n",
              "     2023-07-17 14:41:01  0.579 sec   48.0               9.113825784262243   6.831690171636252   83.0618204258833\n",
              "     2023-07-17 14:41:01  0.590 sec   49.0               9.057249901948875   6.783605223199928   82.0337757863529\n",
              "     2023-07-17 14:41:01  0.600 sec   50.0               9.018587791333232   6.747384320301224   81.33492574998482\n",
              "[51 rows x 7 columns]\n",
              "\n",
              "\n",
              "Variable Importances: \n",
              "variable       relative_importance    scaled_importance    percentage\n",
              "-------------  ---------------------  -------------------  ------------\n",
              "meanHeight     133229                 1                    0.19061\n",
              "meanLength     107009                 0.803196             0.153097\n",
              "meanWidth      85000.3                0.638003             0.12161\n",
              "loadingHeight  79079.7                0.593564             0.113139\n",
              "meanVolume     69843.3                0.524236             0.0999244\n",
              "loadingWidth   63817                  0.479004             0.0913027\n",
              "countStacking  53081.9                0.398427             0.0759441\n",
              "loadingLength  51030.2                0.383027             0.0730087\n",
              "boxesCount     37806.9                0.283775             0.0540901\n",
              "countTurnover  19064.2                0.143094             0.0272751\n",
              "\n",
              "[tips]\n",
              "Use `model.explain()` to inspect the model.\n",
              "--\n",
              "Use `h2o.display.toggle_user_tips()` to switch on/off this section."
            ],
            "text/html": [
              "<pre style='margin: 1em 0 1em 0;'>Model Details\n",
              "=============\n",
              "H2OGradientBoostingEstimator : Gradient Boosting Machine\n",
              "Model Key: GBM_model_python_1689600629121_78\n",
              "</pre>\n",
              "<div style='margin: 1em 0 1em 0;'>\n",
              "<style>\n",
              "\n",
              "#h2o-table-20.h2o-container {\n",
              "  overflow-x: auto;\n",
              "}\n",
              "#h2o-table-20 .h2o-table {\n",
              "  /* width: 100%; */\n",
              "  margin-top: 1em;\n",
              "  margin-bottom: 1em;\n",
              "}\n",
              "#h2o-table-20 .h2o-table caption {\n",
              "  white-space: nowrap;\n",
              "  caption-side: top;\n",
              "  text-align: left;\n",
              "  /* margin-left: 1em; */\n",
              "  margin: 0;\n",
              "  font-size: larger;\n",
              "}\n",
              "#h2o-table-20 .h2o-table thead {\n",
              "  white-space: nowrap; \n",
              "  position: sticky;\n",
              "  top: 0;\n",
              "  box-shadow: 0 -1px inset;\n",
              "}\n",
              "#h2o-table-20 .h2o-table tbody {\n",
              "  overflow: auto;\n",
              "}\n",
              "#h2o-table-20 .h2o-table th,\n",
              "#h2o-table-20 .h2o-table td {\n",
              "  text-align: right;\n",
              "  /* border: 1px solid; */\n",
              "}\n",
              "#h2o-table-20 .h2o-table tr:nth-child(even) {\n",
              "  /* background: #F5F5F5 */\n",
              "}\n",
              "\n",
              "</style>      \n",
              "<div id=\"h2o-table-20\" class=\"h2o-container\">\n",
              "  <table class=\"h2o-table\">\n",
              "    <caption>Model Summary: </caption>\n",
              "    <thead><tr><th></th>\n",
              "<th>number_of_trees</th>\n",
              "<th>number_of_internal_trees</th>\n",
              "<th>model_size_in_bytes</th>\n",
              "<th>min_depth</th>\n",
              "<th>max_depth</th>\n",
              "<th>mean_depth</th>\n",
              "<th>min_leaves</th>\n",
              "<th>max_leaves</th>\n",
              "<th>mean_leaves</th></tr></thead>\n",
              "    <tbody><tr><td></td>\n",
              "<td>50.0</td>\n",
              "<td>50.0</td>\n",
              "<td>11719.0</td>\n",
              "<td>5.0</td>\n",
              "<td>5.0</td>\n",
              "<td>5.0</td>\n",
              "<td>8.0</td>\n",
              "<td>20.0</td>\n",
              "<td>14.06</td></tr></tbody>\n",
              "  </table>\n",
              "</div>\n",
              "</div>\n",
              "<div style='margin: 1em 0 1em 0;'><pre style='margin: 1em 0 1em 0;'>ModelMetricsRegression: gbm\n",
              "** Reported on train data. **\n",
              "\n",
              "MSE: 81.33492574998482\n",
              "RMSE: 9.018587791333232\n",
              "MAE: 6.747384320301224\n",
              "RMSLE: 0.16621548180542287\n",
              "Mean Residual Deviance: 81.33492574998482</pre></div>\n",
              "<div style='margin: 1em 0 1em 0;'>\n",
              "<style>\n",
              "\n",
              "#h2o-table-21.h2o-container {\n",
              "  overflow-x: auto;\n",
              "}\n",
              "#h2o-table-21 .h2o-table {\n",
              "  /* width: 100%; */\n",
              "  margin-top: 1em;\n",
              "  margin-bottom: 1em;\n",
              "}\n",
              "#h2o-table-21 .h2o-table caption {\n",
              "  white-space: nowrap;\n",
              "  caption-side: top;\n",
              "  text-align: left;\n",
              "  /* margin-left: 1em; */\n",
              "  margin: 0;\n",
              "  font-size: larger;\n",
              "}\n",
              "#h2o-table-21 .h2o-table thead {\n",
              "  white-space: nowrap; \n",
              "  position: sticky;\n",
              "  top: 0;\n",
              "  box-shadow: 0 -1px inset;\n",
              "}\n",
              "#h2o-table-21 .h2o-table tbody {\n",
              "  overflow: auto;\n",
              "}\n",
              "#h2o-table-21 .h2o-table th,\n",
              "#h2o-table-21 .h2o-table td {\n",
              "  text-align: right;\n",
              "  /* border: 1px solid; */\n",
              "}\n",
              "#h2o-table-21 .h2o-table tr:nth-child(even) {\n",
              "  /* background: #F5F5F5 */\n",
              "}\n",
              "\n",
              "</style>      \n",
              "<div id=\"h2o-table-21\" class=\"h2o-container\">\n",
              "  <table class=\"h2o-table\">\n",
              "    <caption>Scoring History: </caption>\n",
              "    <thead><tr><th></th>\n",
              "<th>timestamp</th>\n",
              "<th>duration</th>\n",
              "<th>number_of_trees</th>\n",
              "<th>training_rmse</th>\n",
              "<th>training_mae</th>\n",
              "<th>training_deviance</th></tr></thead>\n",
              "    <tbody><tr><td></td>\n",
              "<td>2023-07-17 14:41:00</td>\n",
              "<td> 0.008 sec</td>\n",
              "<td>0.0</td>\n",
              "<td>18.6549389</td>\n",
              "<td>15.2837295</td>\n",
              "<td>348.0067442</td></tr>\n",
              "<tr><td></td>\n",
              "<td>2023-07-17 14:41:00</td>\n",
              "<td> 0.029 sec</td>\n",
              "<td>1.0</td>\n",
              "<td>17.9366436</td>\n",
              "<td>14.6286162</td>\n",
              "<td>321.7231834</td></tr>\n",
              "<tr><td></td>\n",
              "<td>2023-07-17 14:41:00</td>\n",
              "<td> 0.053 sec</td>\n",
              "<td>2.0</td>\n",
              "<td>17.2827895</td>\n",
              "<td>14.0101804</td>\n",
              "<td>298.6948142</td></tr>\n",
              "<tr><td></td>\n",
              "<td>2023-07-17 14:41:00</td>\n",
              "<td> 0.064 sec</td>\n",
              "<td>3.0</td>\n",
              "<td>16.7415050</td>\n",
              "<td>13.5277953</td>\n",
              "<td>280.2779912</td></tr>\n",
              "<tr><td></td>\n",
              "<td>2023-07-17 14:41:00</td>\n",
              "<td> 0.083 sec</td>\n",
              "<td>4.0</td>\n",
              "<td>16.1766758</td>\n",
              "<td>13.0448313</td>\n",
              "<td>261.6848386</td></tr>\n",
              "<tr><td></td>\n",
              "<td>2023-07-17 14:41:01</td>\n",
              "<td> 0.094 sec</td>\n",
              "<td>5.0</td>\n",
              "<td>15.7322941</td>\n",
              "<td>12.6385705</td>\n",
              "<td>247.5050767</td></tr>\n",
              "<tr><td></td>\n",
              "<td>2023-07-17 14:41:01</td>\n",
              "<td> 0.109 sec</td>\n",
              "<td>6.0</td>\n",
              "<td>15.3440739</td>\n",
              "<td>12.2835042</td>\n",
              "<td>235.4406032</td></tr>\n",
              "<tr><td></td>\n",
              "<td>2023-07-17 14:41:01</td>\n",
              "<td> 0.117 sec</td>\n",
              "<td>7.0</td>\n",
              "<td>15.0197103</td>\n",
              "<td>11.9830902</td>\n",
              "<td>225.5916982</td></tr>\n",
              "<tr><td></td>\n",
              "<td>2023-07-17 14:41:01</td>\n",
              "<td> 0.126 sec</td>\n",
              "<td>8.0</td>\n",
              "<td>14.6060735</td>\n",
              "<td>11.6102243</td>\n",
              "<td>213.3373834</td></tr>\n",
              "<tr><td></td>\n",
              "<td>2023-07-17 14:41:01</td>\n",
              "<td> 0.142 sec</td>\n",
              "<td>9.0</td>\n",
              "<td>14.2506583</td>\n",
              "<td>11.3098909</td>\n",
              "<td>203.0812632</td></tr>\n",
              "<tr><td>---</td>\n",
              "<td>---</td>\n",
              "<td>---</td>\n",
              "<td>---</td>\n",
              "<td>---</td>\n",
              "<td>---</td>\n",
              "<td>---</td></tr>\n",
              "<tr><td></td>\n",
              "<td>2023-07-17 14:41:01</td>\n",
              "<td> 0.521 sec</td>\n",
              "<td>41.0</td>\n",
              "<td>9.5630423</td>\n",
              "<td>7.2293967</td>\n",
              "<td>91.4517782</td></tr>\n",
              "<tr><td></td>\n",
              "<td>2023-07-17 14:41:01</td>\n",
              "<td> 0.532 sec</td>\n",
              "<td>42.0</td>\n",
              "<td>9.4822045</td>\n",
              "<td>7.1619819</td>\n",
              "<td>89.9122022</td></tr>\n",
              "<tr><td></td>\n",
              "<td>2023-07-17 14:41:01</td>\n",
              "<td> 0.540 sec</td>\n",
              "<td>43.0</td>\n",
              "<td>9.4532777</td>\n",
              "<td>7.1311057</td>\n",
              "<td>89.3644587</td></tr>\n",
              "<tr><td></td>\n",
              "<td>2023-07-17 14:41:01</td>\n",
              "<td> 0.550 sec</td>\n",
              "<td>44.0</td>\n",
              "<td>9.3790300</td>\n",
              "<td>7.0725739</td>\n",
              "<td>87.9662030</td></tr>\n",
              "<tr><td></td>\n",
              "<td>2023-07-17 14:41:01</td>\n",
              "<td> 0.556 sec</td>\n",
              "<td>45.0</td>\n",
              "<td>9.3036138</td>\n",
              "<td>7.0108255</td>\n",
              "<td>86.5572302</td></tr>\n",
              "<tr><td></td>\n",
              "<td>2023-07-17 14:41:01</td>\n",
              "<td> 0.563 sec</td>\n",
              "<td>46.0</td>\n",
              "<td>9.2114580</td>\n",
              "<td>6.9174714</td>\n",
              "<td>84.8509586</td></tr>\n",
              "<tr><td></td>\n",
              "<td>2023-07-17 14:41:01</td>\n",
              "<td> 0.569 sec</td>\n",
              "<td>47.0</td>\n",
              "<td>9.1749819</td>\n",
              "<td>6.8879461</td>\n",
              "<td>84.1802934</td></tr>\n",
              "<tr><td></td>\n",
              "<td>2023-07-17 14:41:01</td>\n",
              "<td> 0.579 sec</td>\n",
              "<td>48.0</td>\n",
              "<td>9.1138258</td>\n",
              "<td>6.8316902</td>\n",
              "<td>83.0618204</td></tr>\n",
              "<tr><td></td>\n",
              "<td>2023-07-17 14:41:01</td>\n",
              "<td> 0.590 sec</td>\n",
              "<td>49.0</td>\n",
              "<td>9.0572499</td>\n",
              "<td>6.7836052</td>\n",
              "<td>82.0337758</td></tr>\n",
              "<tr><td></td>\n",
              "<td>2023-07-17 14:41:01</td>\n",
              "<td> 0.600 sec</td>\n",
              "<td>50.0</td>\n",
              "<td>9.0185878</td>\n",
              "<td>6.7473843</td>\n",
              "<td>81.3349257</td></tr></tbody>\n",
              "  </table>\n",
              "</div>\n",
              "<pre style='font-size: smaller; margin-bottom: 1em;'>[51 rows x 7 columns]</pre></div>\n",
              "<div style='margin: 1em 0 1em 0;'>\n",
              "<style>\n",
              "\n",
              "#h2o-table-22.h2o-container {\n",
              "  overflow-x: auto;\n",
              "}\n",
              "#h2o-table-22 .h2o-table {\n",
              "  /* width: 100%; */\n",
              "  margin-top: 1em;\n",
              "  margin-bottom: 1em;\n",
              "}\n",
              "#h2o-table-22 .h2o-table caption {\n",
              "  white-space: nowrap;\n",
              "  caption-side: top;\n",
              "  text-align: left;\n",
              "  /* margin-left: 1em; */\n",
              "  margin: 0;\n",
              "  font-size: larger;\n",
              "}\n",
              "#h2o-table-22 .h2o-table thead {\n",
              "  white-space: nowrap; \n",
              "  position: sticky;\n",
              "  top: 0;\n",
              "  box-shadow: 0 -1px inset;\n",
              "}\n",
              "#h2o-table-22 .h2o-table tbody {\n",
              "  overflow: auto;\n",
              "}\n",
              "#h2o-table-22 .h2o-table th,\n",
              "#h2o-table-22 .h2o-table td {\n",
              "  text-align: right;\n",
              "  /* border: 1px solid; */\n",
              "}\n",
              "#h2o-table-22 .h2o-table tr:nth-child(even) {\n",
              "  /* background: #F5F5F5 */\n",
              "}\n",
              "\n",
              "</style>      \n",
              "<div id=\"h2o-table-22\" class=\"h2o-container\">\n",
              "  <table class=\"h2o-table\">\n",
              "    <caption>Variable Importances: </caption>\n",
              "    <thead><tr><th>variable</th>\n",
              "<th>relative_importance</th>\n",
              "<th>scaled_importance</th>\n",
              "<th>percentage</th></tr></thead>\n",
              "    <tbody><tr><td>meanHeight</td>\n",
              "<td>133228.5937500</td>\n",
              "<td>1.0</td>\n",
              "<td>0.1906095</td></tr>\n",
              "<tr><td>meanLength</td>\n",
              "<td>107008.7343750</td>\n",
              "<td>0.8031965</td>\n",
              "<td>0.1530969</td></tr>\n",
              "<tr><td>meanWidth</td>\n",
              "<td>85000.2734375</td>\n",
              "<td>0.6380032</td>\n",
              "<td>0.1216095</td></tr>\n",
              "<tr><td>loadingHeight</td>\n",
              "<td>79079.7109375</td>\n",
              "<td>0.5935641</td>\n",
              "<td>0.1131390</td></tr>\n",
              "<tr><td>meanVolume</td>\n",
              "<td>69843.2656250</td>\n",
              "<td>0.5242363</td>\n",
              "<td>0.0999244</td></tr>\n",
              "<tr><td>loadingWidth</td>\n",
              "<td>63816.9843750</td>\n",
              "<td>0.4790037</td>\n",
              "<td>0.0913027</td></tr>\n",
              "<tr><td>countStacking</td>\n",
              "<td>53081.9179688</td>\n",
              "<td>0.3984274</td>\n",
              "<td>0.0759441</td></tr>\n",
              "<tr><td>loadingLength</td>\n",
              "<td>51030.2031250</td>\n",
              "<td>0.3830274</td>\n",
              "<td>0.0730087</td></tr>\n",
              "<tr><td>boxesCount</td>\n",
              "<td>37806.8828125</td>\n",
              "<td>0.2837745</td>\n",
              "<td>0.0540901</td></tr>\n",
              "<tr><td>countTurnover</td>\n",
              "<td>19064.1972656</td>\n",
              "<td>0.1430939</td>\n",
              "<td>0.0272751</td></tr></tbody>\n",
              "  </table>\n",
              "</div>\n",
              "</div><pre style=\"font-size: smaller; margin: 1em 0 0 0;\">\n",
              "\n",
              "[tips]\n",
              "Use `model.explain()` to inspect the model.\n",
              "--\n",
              "Use `h2o.display.toggle_user_tips()` to switch on/off this section.</pre>"
            ]
          },
          "metadata": {},
          "execution_count": 53
        }
      ]
    }
  ]
}